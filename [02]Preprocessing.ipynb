{
 "cells": [
  {
   "cell_type": "code",
   "execution_count": 1,
   "id": "f284b662-270c-4405-9d54-cb20d81c6f7c",
   "metadata": {
    "tags": []
   },
   "outputs": [],
   "source": [
    "import pandas as pd\n",
    "from glob import glob\n",
    "from tqdm import tqdm\n",
    "import numpy as np\n",
    "import pickle\n"
   ]
  },
  {
   "cell_type": "markdown",
   "id": "041f06b7-3be2-4d7a-9f70-f4caaa1a464f",
   "metadata": {},
   "source": [
    "## 심부전 고위험군 및 저위험군 데이터프레임 생성"
   ]
  },
  {
   "cell_type": "code",
   "execution_count": 2,
   "id": "63e054b2-9fe5-438e-b8a7-e4b10a043fd7",
   "metadata": {},
   "outputs": [
    {
     "name": "stdout",
     "output_type": "stream",
     "text": [
      "(7826, 73)\n"
     ]
    }
   ],
   "source": [
    "edf = pd.read_csv(\"data/Participant_table_labeled.csv\")\n",
    "edf = edf[edf[\"risk\"] != -1]\n",
    "edf = edf[[\"Participant ID\"]]\n",
    "EHRs = glob(\"data/EHR_original_source/EHR_*.csv\")\n",
    "for ehr in EHRs:\n",
    "    df = pd.read_csv(ehr)\n",
    "    edf = pd.merge(edf, df, on='Participant ID', how='left')\n",
    "print(edf.shape)"
   ]
  },
  {
   "cell_type": "markdown",
   "id": "7ff66fc8-efba-404f-b3c1-171e6820f1b0",
   "metadata": {},
   "source": [
    "## EHR 데이터 전처리"
   ]
  },
  {
   "cell_type": "code",
   "execution_count": 3,
   "id": "a571d71f-f956-40bd-ac4c-c8b12e43bac5",
   "metadata": {},
   "outputs": [
    {
     "name": "stdout",
     "output_type": "stream",
     "text": [
      "(7826, 61)\n"
     ]
    }
   ],
   "source": [
    "# 중복컬럼 제거\n",
    "duplicate_columns = edf.columns[edf.T.duplicated()]\n",
    "edf = edf.drop(columns=duplicate_columns)\n",
    "print(edf.shape)\n",
    "\n",
    "# 카테고리형 변수 레이블 인코딩\n",
    "for column in edf.columns:\n",
    "    if edf[column].dtype == 'object':\n",
    "        edf[column + '_encoded'] = pd.factorize(edf[column])[0]\n",
    "        edf = edf.drop(column, axis = 1)"
   ]
  },
  {
   "cell_type": "markdown",
   "id": "b4e82da2-aae5-4bca-895a-1fa7157c6c06",
   "metadata": {},
   "source": [
    "## 데이터프레임 저장"
   ]
  },
  {
   "cell_type": "code",
   "execution_count": 4,
   "id": "4ce74d77-aa35-4602-82cf-6d0c704b6cf5",
   "metadata": {
    "tags": []
   },
   "outputs": [],
   "source": [
    "#edf.info()\n",
    "edf.to_csv(\"data/EHR.csv\", index=False)"
   ]
  },
  {
   "cell_type": "markdown",
   "id": "c4366688-3e21-4c5d-b9f3-e95a83958e3c",
   "metadata": {},
   "source": [
    "## SNPs 데이터 시퀀스 형태로 저장"
   ]
  },
  {
   "cell_type": "code",
   "execution_count": 5,
   "id": "1bd1f904-7ef5-4632-a398-9e766f8bc1f7",
   "metadata": {
    "tags": []
   },
   "outputs": [
    {
     "name": "stderr",
     "output_type": "stream",
     "text": [
      "100%|███████████████████████████████████████████████████████████████████████████████| 7826/7826 [00:51<00:00, 150.54it/s]\n"
     ]
    }
   ],
   "source": [
    "def load_exome_alt(pid, positionFile):\n",
    "    vdf = pd.read_csv(f\"data/filtered_exome_seq/{pid}.csv\")\n",
    "    local_dict = vdf.set_index('snps_position')['ALT'].to_dict()\n",
    "    vector_values = [local_dict.get(key, 0) for key in positionFile]\n",
    "    return vector_values\n",
    "\n",
    "def transform_exome_vector(vector):\n",
    "    transformed = np.zeros((256, 5), dtype=int)\n",
    "    for i, v in enumerate(vector):\n",
    "        if v != 0:\n",
    "            transformed[i, 0] = 1\n",
    "        for j, nucleotide in enumerate(['A', 'C', 'G', 'T'], start=1):\n",
    "            if v == nucleotide:\n",
    "                transformed[i, j] = 1\n",
    "    return transformed\n",
    "\n",
    "with open(f\"positions/selected_positions/HFS.txt\", \"r\") as file:\n",
    "    position = file.read().splitlines()\n",
    "\n",
    "pdf = pd.read_csv(\"data/Participant_table_labeled.csv\")\n",
    "pdf = pdf[pdf[\"risk\"] != -1]\n",
    "pids = list(pdf[\"Participant ID\"])\n",
    "exome_vectors = {pid: load_exome_alt(pid, position) for pid in tqdm(pids)}\n",
    "transformed_vectors = {key: transform_exome_vector(value) for key, value in exome_vectors.items()}\n"
   ]
  },
  {
   "cell_type": "code",
   "execution_count": 6,
   "id": "5b1f8c41-dc7b-4eaf-9c18-80adcff01958",
   "metadata": {},
   "outputs": [],
   "source": [
    "pickle_file_path = 'data/SNPs.pkl'\n",
    "with open(pickle_file_path, 'wb') as file:\n",
    "    pickle.dump(transformed_vectors, file)"
   ]
  },
  {
   "cell_type": "code",
   "execution_count": null,
   "id": "3f8840c4-030c-480f-9e2f-cf6f0cd5fafe",
   "metadata": {},
   "outputs": [],
   "source": []
  }
 ],
 "metadata": {
  "kernelspec": {
   "display_name": "Python 3 (ipykernel)",
   "language": "python",
   "name": "python3"
  },
  "language_info": {
   "codemirror_mode": {
    "name": "ipython",
    "version": 3
   },
   "file_extension": ".py",
   "mimetype": "text/x-python",
   "name": "python",
   "nbconvert_exporter": "python",
   "pygments_lexer": "ipython3",
   "version": "3.8.10"
  }
 },
 "nbformat": 4,
 "nbformat_minor": 5
}
